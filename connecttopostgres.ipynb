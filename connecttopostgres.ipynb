{
 "cells": [
  {
   "cell_type": "code",
   "execution_count": null,
   "metadata": {},
   "outputs": [],
   "source": [
    "%pip install psycopg2"
   ]
  },
  {
   "cell_type": "code",
   "execution_count": null,
   "metadata": {},
   "outputs": [],
   "source": [
    "import pandas as pd\n",
    "import psycopg2\n",
    "from sqlalchemy import create_engine\n",
    "\n",
    "# Read CSV data\n",
    "df = pd.read_csv('scopus_2024_all_subjects_deduplicated.csv')\n",
    "\n",
    "# Database connection details\n",
    "db_details = {\n",
    "    'host': 'localhost',\n",
    "    'dbname': 'postgres',\n",
    "    'user': 'postgres',\n",
    "    'password': '123456',\n",
    "    'port': '5432'\n",
    "}\n",
    "\n",
    "\n",
    "# Connect to PostgreSQL\n",
    "engine = create_engine(f\"postgresql+psycopg2://{db_details['user']}:{db_details['password']}@{db_details['host']}:{db_details['port']}/{db_details['dbname']}\")\n",
    "\n",
    "# Send DataFrame to PostgreSQL\n",
    "df.to_sql('datasci', con=engine, if_exists='replace', index=False)\n",
    "\n",
    "print(\"Data has been successfully uploaded to PostgreSQL.\")\n"
   ]
  },
  {
   "cell_type": "code",
   "execution_count": null,
   "metadata": {},
   "outputs": [],
   "source": [
    "import psycopg2\n",
    "\n",
    "# Database connection details\n",
    "db_details = {\n",
    "    'host': 'localhost',\n",
    "    'dbname': 'postgres',\n",
    "    'user': 'postgres',\n",
    "    'password': '123456',\n",
    "    'port': '5432'\n",
    "}\n",
    "\n",
    "# Connect to PostgreSQL\n",
    "conn = psycopg2.connect(\n",
    "    host=db_details['host'],\n",
    "    dbname=db_details['dbname'],\n",
    "    user=db_details['user'],\n",
    "    password=db_details['password'],\n",
    "    port=db_details['port']\n",
    ")\n",
    "cursor = conn.cursor()\n"
   ]
  },
  {
   "cell_type": "code",
   "execution_count": null,
   "metadata": {},
   "outputs": [],
   "source": [
    "# SELECT query\n",
    "cursor.execute(\n",
    "    \"SELECT * FROM datasci \"    \n",
    "    )\n",
    "rows = cursor.fetchall()\n",
    "\n",
    "# Display results\n",
    "for row in rows:\n",
    "    print(row)\n"
   ]
  }
 ],
 "metadata": {
  "kernelspec": {
   "display_name": "base",
   "language": "python",
   "name": "python3"
  },
  "language_info": {
   "name": "python",
   "version": "3.12.4"
  }
 },
 "nbformat": 4,
 "nbformat_minor": 2
}
